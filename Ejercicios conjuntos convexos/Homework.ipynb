{
  "nbformat": 4,
  "nbformat_minor": 0,
  "metadata": {
    "colab": {
      "name": "Homework.ipynb",
      "provenance": [],
      "collapsed_sections": [],
      "include_colab_link": true
    },
    "kernelspec": {
      "display_name": "Julia",
      "language": "julia",
      "name": "julia"
    },
    "language_info": {
      "file_extension": ".jl",
      "mimetype": "application/julia",
      "name": "julia"
    }
  },
  "cells": [
    {
      "cell_type": "markdown",
      "metadata": {
        "id": "view-in-github",
        "colab_type": "text"
      },
      "source": [
        "<a href=\"https://colab.research.google.com/github/rpenal/IntroOptimizacion/blob/main/Ejercicios%20conjuntos%20convexos/Homework.ipynb\" target=\"_parent\"><img src=\"https://colab.research.google.com/assets/colab-badge.svg\" alt=\"Open In Colab\"/></a>"
      ]
    },
    {
      "cell_type": "markdown",
      "metadata": {
        "id": "tQ1r1bbb0yBv"
      },
      "source": [
        "# <img src=\"https://github.com/JuliaLang/julia-logo-graphics/raw/master/images/julia-logo-color.png\" height=\"100\" /> _Colab Notebook Template_\n",
        "\n",
        "## Instructions\n",
        "1. Work on a copy of this notebook: _File_ > _Save a copy in Drive_ (you will need a Google account). Alternatively, you can download the notebook using _File_ > _Download .ipynb_, then upload it to [Colab](https://colab.research.google.com/).\n",
        "2. If you need a GPU: _Runtime_ > _Change runtime type_ > _Harware accelerator_ = _GPU_.\n",
        "3. Execute the following cell (click on it and press Ctrl+Enter) to install Julia, IJulia and other packages (if needed, update `JULIA_VERSION` and the other parameters). This takes a couple of minutes.\n",
        "4. Reload this page (press Ctrl+R, or ⌘+R, or the F5 key) and continue to the next section.\n",
        "\n",
        "_Notes_:\n",
        "* If your Colab Runtime gets reset (e.g., due to inactivity), repeat steps 2, 3 and 4.\n",
        "* After installation, if you want to change the Julia version or activate/deactivate the GPU, you will need to reset the Runtime: _Runtime_ > _Factory reset runtime_ and repeat steps 3 and 4."
      ]
    },
    {
      "cell_type": "code",
      "metadata": {
        "id": "GIeFXS0F0zww",
        "colab": {
          "base_uri": "https://localhost:8080/"
        },
        "outputId": "08b60b3a-cd8a-4bb0-b430-b6a5e0ca5218"
      },
      "source": [
        "%%shell\n",
        "set -e\n",
        "\n",
        "#---------------------------------------------------#\n",
        "JULIA_VERSION=\"1.7.1\" # any version ≥ 0.7.0\n",
        "JULIA_PACKAGES=\"IJulia BenchmarkTools Plots\"\n",
        "JULIA_PACKAGES_IF_GPU=\"CUDA\" # or CuArrays for older Julia versions\n",
        "JULIA_NUM_THREADS=2\n",
        "#---------------------------------------------------#\n",
        "\n",
        "if [ -n \"$COLAB_GPU\" ] && [ -z `which julia` ]; then\n",
        "  # Install Julia\n",
        "  JULIA_VER=`cut -d '.' -f -2 <<< \"$JULIA_VERSION\"`\n",
        "  echo \"Installing Julia $JULIA_VERSION on the current Colab Runtime...\"\n",
        "  BASE_URL=\"https://julialang-s3.julialang.org/bin/linux/x64\"\n",
        "  URL=\"$BASE_URL/$JULIA_VER/julia-$JULIA_VERSION-linux-x86_64.tar.gz\"\n",
        "  wget -nv $URL -O /tmp/julia.tar.gz # -nv means \"not verbose\"\n",
        "  tar -x -f /tmp/julia.tar.gz -C /usr/local --strip-components 1\n",
        "  rm /tmp/julia.tar.gz\n",
        "\n",
        "  # Install Packages\n",
        "  if [ \"$COLAB_GPU\" = \"1\" ]; then\n",
        "      JULIA_PACKAGES=\"$JULIA_PACKAGES $JULIA_PACKAGES_IF_GPU\"\n",
        "  fi\n",
        "  for PKG in `echo $JULIA_PACKAGES`; do\n",
        "    echo \"Installing Julia package $PKG...\"\n",
        "    julia -e 'using Pkg; pkg\"add '$PKG'; precompile;\"' &> /dev/null\n",
        "  done\n",
        "\n",
        "  # Install kernel and rename it to \"julia\"\n",
        "  echo \"Installing IJulia kernel...\"\n",
        "  julia -e 'using IJulia; IJulia.installkernel(\"julia\", env=Dict(\n",
        "      \"JULIA_NUM_THREADS\"=>\"'\"$JULIA_NUM_THREADS\"'\"))'\n",
        "  KERNEL_DIR=`julia -e \"using IJulia; print(IJulia.kerneldir())\"`\n",
        "  KERNEL_NAME=`ls -d \"$KERNEL_DIR\"/julia*`\n",
        "  mv -f $KERNEL_NAME \"$KERNEL_DIR\"/julia  \n",
        "\n",
        "  echo ''\n",
        "  echo \"Successfully installed `julia -v`!\"\n",
        "  echo \"Please reload this page (press Ctrl+R, ⌘+R, or the F5 key) then\"\n",
        "  echo \"jump to the 'Checking the Installation' section.\"\n",
        "fi"
      ],
      "execution_count": null,
      "outputs": [
        {
          "output_type": "stream",
          "name": "stdout",
          "text": [
            "Installing Julia 1.7.1 on the current Colab Runtime...\n",
            "2022-04-29 20:43:39 URL:https://julialang-s3.julialang.org/bin/linux/x64/1.7/julia-1.7.1-linux-x86_64.tar.gz [123374573/123374573] -> \"/tmp/julia.tar.gz\" [1]\n",
            "Installing Julia package IJulia...\n",
            "Installing Julia package BenchmarkTools...\n",
            "Installing Julia package Plots...\n",
            "Installing IJulia kernel...\n",
            "\u001b[36m\u001b[1m[ \u001b[22m\u001b[39m\u001b[36m\u001b[1mInfo: \u001b[22m\u001b[39mInstalling julia kernelspec in /root/.local/share/jupyter/kernels/julia-1.7\n",
            "\n",
            "Successfully installed julia version 1.7.1!\n",
            "Please reload this page (press Ctrl+R, ⌘+R, or the F5 key) then\n",
            "jump to the 'Checking the Installation' section.\n"
          ]
        },
        {
          "output_type": "execute_result",
          "data": {
            "text/plain": [
              ""
            ]
          },
          "metadata": {},
          "execution_count": 1
        }
      ]
    },
    {
      "cell_type": "markdown",
      "metadata": {
        "id": "-OS3Ac017T1i"
      },
      "source": [
        "# Checking the Installation\n",
        "The `versioninfo()` function should print your Julia version and some other info about the system:"
      ]
    },
    {
      "cell_type": "code",
      "metadata": {
        "id": "EEzvvzCl1i0F",
        "colab": {
          "base_uri": "https://localhost:8080/"
        },
        "outputId": "331c6616-2af1-47d6-8b8b-c660923201f0"
      },
      "source": [
        "versioninfo()"
      ],
      "execution_count": 114,
      "outputs": [
        {
          "output_type": "stream",
          "name": "stdout",
          "text": [
            "Julia Version 1.7.1\n",
            "Commit ac5cc99908 (2021-12-22 19:35 UTC)\n",
            "Platform Info:\n",
            "  OS: Linux (x86_64-pc-linux-gnu)\n",
            "  CPU: Intel(R) Xeon(R) CPU @ 2.20GHz\n",
            "  WORD_SIZE: 64\n",
            "  LIBM: libopenlibm\n",
            "  LLVM: libLLVM-12.0.1 (ORCJIT, broadwell)\n",
            "Environment:\n",
            "  JULIA_NUM_THREADS = 2\n"
          ]
        }
      ]
    },
    {
      "cell_type": "code",
      "source": [
        "import Pkg; Pkg.add(\"Plots\")"
      ],
      "metadata": {
        "colab": {
          "base_uri": "https://localhost:8080/"
        },
        "id": "vUrZ0F6_ij_T",
        "outputId": "65ded703-587c-437d-9b16-6ed190a35e35"
      },
      "execution_count": 115,
      "outputs": [
        {
          "output_type": "stream",
          "name": "stderr",
          "text": [
            "\u001b[32m\u001b[1m   Resolving\u001b[22m\u001b[39m package versions...\n",
            "\u001b[32m\u001b[1m  No Changes\u001b[22m\u001b[39m to `~/.julia/environments/v1.7/Project.toml`\n",
            "\u001b[32m\u001b[1m  No Changes\u001b[22m\u001b[39m to `~/.julia/environments/v1.7/Manifest.toml`\n"
          ]
        }
      ]
    },
    {
      "cell_type": "markdown",
      "source": [
        "Lo principal es ubica los puntos que tengan el menor y mayor angulo con el eje x. De esta forma podemos dar un limite superior e inferior para el cono."
      ],
      "metadata": {
        "id": "W2bDWbSyWu4O"
      }
    },
    {
      "cell_type": "code",
      "source": [
        "#Para R2\n",
        "using Plots\n",
        "\n",
        "\n",
        "Puntos = rand(1:100,2,30)\n",
        "\n",
        "function calcTheta(y,x)\n",
        "  if x != 0 && y != 0\n",
        "    return atan(y,x)\n",
        "  elseif x == 0 && y != 0\n",
        "    if y > 0\n",
        "      return pi/2\n",
        "    elseif y < 0\n",
        "      return -3*pi/2\n",
        "    else\n",
        "      return 0\n",
        "    end\n",
        "  elseif x != 0 && y == 0\n",
        "    if x >= 0\n",
        "      return 0\n",
        "    elseif x < 0\n",
        "      return pi\n",
        "    end\n",
        "  else\n",
        "    return 0\n",
        "  end\n",
        "end\n",
        "\n",
        "minpoint = Puntos[:,1]\n",
        "maxpoint = Puntos[:,1]\n",
        "\n",
        "mintheta = calcTheta(minpoint[:,1][2],minpoint[:,1][1])\n",
        "maxtheta = calcTheta(maxpoint[:,1][2],maxpoint[:,1][1])\n",
        "\n",
        "for i in 2:size(Puntos,2)\n",
        "  theta = calcTheta(Puntos[:,i][2],Puntos[:,i][1])\n",
        "  if theta < mintheta\n",
        "    minpoint = Puntos[:,i]\n",
        "    mintheta = theta\n",
        "  elseif theta > maxtheta\n",
        "    maxpoint = Puntos[:,i]\n",
        "    maxtheta = theta\n",
        "  end\n",
        "end\n",
        "\n",
        "maxpointdraw = 3 * maxpoint\n",
        "minpointdraw = 3 * minpoint\n",
        "\n",
        "\n",
        "plot(Puntos[1,:], Puntos[2,:],seriestype = :scatter)\n",
        "plot!([0,maxpointdraw[1]],[0,maxpointdraw[2]])\n",
        "plot!([0,minpointdraw[1]],[0,minpointdraw[2]])"
      ],
      "metadata": {
        "id": "kYurP07IUSMt",
        "colab": {
          "base_uri": "https://localhost:8080/",
          "height": 421
        },
        "outputId": "dde45357-3243-432f-87da-3698f209a32f"
      },
      "execution_count": 113,
      "outputs": [
        {
          "output_type": "execute_result",
          "data": {
            "image/svg+xml": "<?xml version=\"1.0\" encoding=\"utf-8\"?>\n<svg xmlns=\"http://www.w3.org/2000/svg\" xmlns:xlink=\"http://www.w3.org/1999/xlink\" width=\"600\" height=\"400\" viewBox=\"0 0 2400 1600\">\n<defs>\n  <clipPath id=\"clip620\">\n    <rect x=\"0\" y=\"0\" width=\"2400\" height=\"1600\"/>\n  </clipPath>\n</defs>\n<path clip-path=\"url(#clip620)\" d=\"\nM0 1600 L2400 1600 L2400 0 L0 0  Z\n  \" fill=\"#ffffff\" fill-rule=\"evenodd\" fill-opacity=\"1\"/>\n<defs>\n  <clipPath id=\"clip621\">\n    <rect x=\"480\" y=\"0\" width=\"1681\" height=\"1600\"/>\n  </clipPath>\n</defs>\n<path clip-path=\"url(#clip620)\" d=\"\nM170.857 1486.45 L2352.76 1486.45 L2352.76 47.2441 L170.857 47.2441  Z\n  \" fill=\"#ffffff\" fill-rule=\"evenodd\" fill-opacity=\"1\"/>\n<defs>\n  <clipPath id=\"clip622\">\n    <rect x=\"170\" y=\"47\" width=\"2183\" height=\"1440\"/>\n  </clipPath>\n</defs>\n<polyline clip-path=\"url(#clip622)\" style=\"stroke:#000000; stroke-linecap:butt; stroke-linejoin:round; stroke-width:2; stroke-opacity:0.1; fill:none\" points=\"\n  232.609,1486.45 232.609,47.2441 \n  \"/>\n<polyline clip-path=\"url(#clip622)\" style=\"stroke:#000000; stroke-linecap:butt; stroke-linejoin:round; stroke-width:2; stroke-opacity:0.1; fill:none\" points=\"\n  661.442,1486.45 661.442,47.2441 \n  \"/>\n<polyline clip-path=\"url(#clip622)\" style=\"stroke:#000000; stroke-linecap:butt; stroke-linejoin:round; stroke-width:2; stroke-opacity:0.1; fill:none\" points=\"\n  1090.27,1486.45 1090.27,47.2441 \n  \"/>\n<polyline clip-path=\"url(#clip622)\" style=\"stroke:#000000; stroke-linecap:butt; stroke-linejoin:round; stroke-width:2; stroke-opacity:0.1; fill:none\" points=\"\n  1519.11,1486.45 1519.11,47.2441 \n  \"/>\n<polyline clip-path=\"url(#clip622)\" style=\"stroke:#000000; stroke-linecap:butt; stroke-linejoin:round; stroke-width:2; stroke-opacity:0.1; fill:none\" points=\"\n  1947.94,1486.45 1947.94,47.2441 \n  \"/>\n<polyline clip-path=\"url(#clip620)\" style=\"stroke:#000000; stroke-linecap:butt; stroke-linejoin:round; stroke-width:4; stroke-opacity:1; fill:none\" points=\"\n  170.857,1486.45 2352.76,1486.45 \n  \"/>\n<polyline clip-path=\"url(#clip620)\" style=\"stroke:#000000; stroke-linecap:butt; stroke-linejoin:round; stroke-width:4; stroke-opacity:1; fill:none\" points=\"\n  232.609,1486.45 232.609,1467.55 \n  \"/>\n<polyline clip-path=\"url(#clip620)\" style=\"stroke:#000000; stroke-linecap:butt; stroke-linejoin:round; stroke-width:4; stroke-opacity:1; fill:none\" points=\"\n  661.442,1486.45 661.442,1467.55 \n  \"/>\n<polyline clip-path=\"url(#clip620)\" style=\"stroke:#000000; stroke-linecap:butt; stroke-linejoin:round; stroke-width:4; stroke-opacity:1; fill:none\" points=\"\n  1090.27,1486.45 1090.27,1467.55 \n  \"/>\n<polyline clip-path=\"url(#clip620)\" style=\"stroke:#000000; stroke-linecap:butt; stroke-linejoin:round; stroke-width:4; stroke-opacity:1; fill:none\" points=\"\n  1519.11,1486.45 1519.11,1467.55 \n  \"/>\n<polyline clip-path=\"url(#clip620)\" style=\"stroke:#000000; stroke-linecap:butt; stroke-linejoin:round; stroke-width:4; stroke-opacity:1; fill:none\" points=\"\n  1947.94,1486.45 1947.94,1467.55 \n  \"/>\n<path clip-path=\"url(#clip620)\" d=\"M232.609 1517.37 Q228.998 1517.37 227.169 1520.93 Q225.364 1524.47 225.364 1531.6 Q225.364 1538.71 227.169 1542.27 Q228.998 1545.82 232.609 1545.82 Q236.244 1545.82 238.049 1542.27 Q239.878 1538.71 239.878 1531.6 Q239.878 1524.47 238.049 1520.93 Q236.244 1517.37 232.609 1517.37 M232.609 1513.66 Q238.419 1513.66 241.475 1518.27 Q244.554 1522.85 244.554 1531.6 Q244.554 1540.33 241.475 1544.94 Q238.419 1549.52 232.609 1549.52 Q226.799 1549.52 223.72 1544.94 Q220.665 1540.33 220.665 1531.6 Q220.665 1522.85 223.72 1518.27 Q226.799 1513.66 232.609 1513.66 Z\" fill=\"#000000\" fill-rule=\"evenodd\" fill-opacity=\"1\" /><path clip-path=\"url(#clip620)\" d=\"M650.284 1530.21 Q653.641 1530.93 655.516 1533.2 Q657.414 1535.47 657.414 1538.8 Q657.414 1543.92 653.895 1546.72 Q650.377 1549.52 643.895 1549.52 Q641.719 1549.52 639.405 1549.08 Q637.113 1548.66 634.659 1547.81 L634.659 1543.29 Q636.604 1544.43 638.918 1545.01 Q641.233 1545.58 643.756 1545.58 Q648.155 1545.58 650.446 1543.85 Q652.761 1542.11 652.761 1538.8 Q652.761 1535.75 650.608 1534.03 Q648.479 1532.3 644.659 1532.3 L640.631 1532.3 L640.631 1528.45 L644.844 1528.45 Q648.293 1528.45 650.122 1527.09 Q651.951 1525.7 651.951 1523.11 Q651.951 1520.45 650.053 1519.03 Q648.178 1517.6 644.659 1517.6 Q642.738 1517.6 640.539 1518.01 Q638.34 1518.43 635.701 1519.31 L635.701 1515.14 Q638.363 1514.4 640.678 1514.03 Q643.016 1513.66 645.076 1513.66 Q650.4 1513.66 653.502 1516.09 Q656.604 1518.5 656.604 1522.62 Q656.604 1525.49 654.96 1527.48 Q653.317 1529.45 650.284 1530.21 Z\" fill=\"#000000\" fill-rule=\"evenodd\" fill-opacity=\"1\" /><path clip-path=\"url(#clip620)\" d=\"M676.279 1517.37 Q672.668 1517.37 670.84 1520.93 Q669.034 1524.47 669.034 1531.6 Q669.034 1538.71 670.84 1542.27 Q672.668 1545.82 676.279 1545.82 Q679.914 1545.82 681.719 1542.27 Q683.548 1538.71 683.548 1531.6 Q683.548 1524.47 681.719 1520.93 Q679.914 1517.37 676.279 1517.37 M676.279 1513.66 Q682.09 1513.66 685.145 1518.27 Q688.224 1522.85 688.224 1531.6 Q688.224 1540.33 685.145 1544.94 Q682.09 1549.52 676.279 1549.52 Q670.469 1549.52 667.391 1544.94 Q664.335 1540.33 664.335 1531.6 Q664.335 1522.85 667.391 1518.27 Q670.469 1513.66 676.279 1513.66 Z\" fill=\"#000000\" fill-rule=\"evenodd\" fill-opacity=\"1\" /><path clip-path=\"url(#clip620)\" d=\"M1075.68 1529.7 Q1072.53 1529.7 1070.68 1531.86 Q1068.85 1534.01 1068.85 1537.76 Q1068.85 1541.49 1070.68 1543.66 Q1072.53 1545.82 1075.68 1545.82 Q1078.83 1545.82 1080.66 1543.66 Q1082.51 1541.49 1082.51 1537.76 Q1082.51 1534.01 1080.66 1531.86 Q1078.83 1529.7 1075.68 1529.7 M1084.96 1515.05 L1084.96 1519.31 Q1083.2 1518.48 1081.4 1518.04 Q1079.61 1517.6 1077.85 1517.6 Q1073.23 1517.6 1070.77 1520.72 Q1068.34 1523.85 1067.99 1530.17 Q1069.36 1528.15 1071.42 1527.09 Q1073.48 1526 1075.96 1526 Q1081.17 1526 1084.17 1529.17 Q1087.21 1532.32 1087.21 1537.76 Q1087.21 1543.08 1084.06 1546.3 Q1080.91 1549.52 1075.68 1549.52 Q1069.68 1549.52 1066.51 1544.94 Q1063.34 1540.33 1063.34 1531.6 Q1063.34 1523.41 1067.23 1518.55 Q1071.12 1513.66 1077.67 1513.66 Q1079.43 1513.66 1081.21 1514.01 Q1083.02 1514.36 1084.96 1515.05 Z\" fill=\"#000000\" fill-rule=\"evenodd\" fill-opacity=\"1\" /><path clip-path=\"url(#clip620)\" d=\"M1105.26 1517.37 Q1101.65 1517.37 1099.82 1520.93 Q1098.02 1524.47 1098.02 1531.6 Q1098.02 1538.71 1099.82 1542.27 Q1101.65 1545.82 1105.26 1545.82 Q1108.9 1545.82 1110.7 1542.27 Q1112.53 1538.71 1112.53 1531.6 Q1112.53 1524.47 1110.7 1520.93 Q1108.9 1517.37 1105.26 1517.37 M1105.26 1513.66 Q1111.07 1513.66 1114.13 1518.27 Q1117.21 1522.85 1117.21 1531.6 Q1117.21 1540.33 1114.13 1544.94 Q1111.07 1549.52 1105.26 1549.52 Q1099.45 1549.52 1096.37 1544.94 Q1093.32 1540.33 1093.32 1531.6 Q1093.32 1522.85 1096.37 1518.27 Q1099.45 1513.66 1105.26 1513.66 Z\" fill=\"#000000\" fill-rule=\"evenodd\" fill-opacity=\"1\" /><path clip-path=\"url(#clip620)\" d=\"M1494.23 1548.13 L1494.23 1543.87 Q1495.99 1544.7 1497.8 1545.14 Q1499.6 1545.58 1501.34 1545.58 Q1505.97 1545.58 1508.4 1542.48 Q1510.85 1539.36 1511.2 1533.01 Q1509.86 1535.01 1507.8 1536.07 Q1505.74 1537.13 1503.24 1537.13 Q1498.05 1537.13 1495.02 1534.01 Q1492.01 1530.86 1492.01 1525.42 Q1492.01 1520.1 1495.16 1516.88 Q1498.31 1513.66 1503.54 1513.66 Q1509.53 1513.66 1512.68 1518.27 Q1515.85 1522.85 1515.85 1531.6 Q1515.85 1539.77 1511.96 1544.66 Q1508.1 1549.52 1501.55 1549.52 Q1499.79 1549.52 1497.98 1549.17 Q1496.18 1548.82 1494.23 1548.13 M1503.54 1533.48 Q1506.69 1533.48 1508.52 1531.32 Q1510.37 1529.17 1510.37 1525.42 Q1510.37 1521.7 1508.52 1519.54 Q1506.69 1517.37 1503.54 1517.37 Q1500.39 1517.37 1498.54 1519.54 Q1496.71 1521.7 1496.71 1525.42 Q1496.71 1529.17 1498.54 1531.32 Q1500.39 1533.48 1503.54 1533.48 Z\" fill=\"#000000\" fill-rule=\"evenodd\" fill-opacity=\"1\" /><path clip-path=\"url(#clip620)\" d=\"M1534.26 1517.37 Q1530.65 1517.37 1528.82 1520.93 Q1527.01 1524.47 1527.01 1531.6 Q1527.01 1538.71 1528.82 1542.27 Q1530.65 1545.82 1534.26 1545.82 Q1537.89 1545.82 1539.7 1542.27 Q1541.52 1538.71 1541.52 1531.6 Q1541.52 1524.47 1539.7 1520.93 Q1537.89 1517.37 1534.26 1517.37 M1534.26 1513.66 Q1540.07 1513.66 1543.12 1518.27 Q1546.2 1522.85 1546.2 1531.6 Q1546.2 1540.33 1543.12 1544.94 Q1540.07 1549.52 1534.26 1549.52 Q1528.45 1549.52 1525.37 1544.94 Q1522.31 1540.33 1522.31 1531.6 Q1522.31 1522.85 1525.37 1518.27 Q1528.45 1513.66 1534.26 1513.66 Z\" fill=\"#000000\" fill-rule=\"evenodd\" fill-opacity=\"1\" /><path clip-path=\"url(#clip620)\" d=\"M1907.54 1544.91 L1915.18 1544.91 L1915.18 1518.55 L1906.87 1520.21 L1906.87 1515.95 L1915.14 1514.29 L1919.81 1514.29 L1919.81 1544.91 L1927.45 1544.91 L1927.45 1548.85 L1907.54 1548.85 L1907.54 1544.91 Z\" fill=\"#000000\" fill-rule=\"evenodd\" fill-opacity=\"1\" /><path clip-path=\"url(#clip620)\" d=\"M1940.92 1544.91 L1957.24 1544.91 L1957.24 1548.85 L1935.3 1548.85 L1935.3 1544.91 Q1937.96 1542.16 1942.54 1537.53 Q1947.15 1532.88 1948.33 1531.53 Q1950.58 1529.01 1951.46 1527.27 Q1952.36 1525.51 1952.36 1523.82 Q1952.36 1521.07 1950.42 1519.33 Q1948.49 1517.6 1945.39 1517.6 Q1943.19 1517.6 1940.74 1518.36 Q1938.31 1519.13 1935.53 1520.68 L1935.53 1515.95 Q1938.35 1514.82 1940.81 1514.24 Q1943.26 1513.66 1945.3 1513.66 Q1950.67 1513.66 1953.86 1516.35 Q1957.06 1519.03 1957.06 1523.52 Q1957.06 1525.65 1956.25 1527.57 Q1955.46 1529.47 1953.35 1532.07 Q1952.78 1532.74 1949.67 1535.95 Q1946.57 1539.15 1940.92 1544.91 Z\" fill=\"#000000\" fill-rule=\"evenodd\" fill-opacity=\"1\" /><path clip-path=\"url(#clip620)\" d=\"M1977.06 1517.37 Q1973.45 1517.37 1971.62 1520.93 Q1969.81 1524.47 1969.81 1531.6 Q1969.81 1538.71 1971.62 1542.27 Q1973.45 1545.82 1977.06 1545.82 Q1980.69 1545.82 1982.5 1542.27 Q1984.33 1538.71 1984.33 1531.6 Q1984.33 1524.47 1982.5 1520.93 Q1980.69 1517.37 1977.06 1517.37 M1977.06 1513.66 Q1982.87 1513.66 1985.92 1518.27 Q1989 1522.85 1989 1531.6 Q1989 1540.33 1985.92 1544.94 Q1982.87 1549.52 1977.06 1549.52 Q1971.25 1549.52 1968.17 1544.94 Q1965.11 1540.33 1965.11 1531.6 Q1965.11 1522.85 1968.17 1518.27 Q1971.25 1513.66 1977.06 1513.66 Z\" fill=\"#000000\" fill-rule=\"evenodd\" fill-opacity=\"1\" /><polyline clip-path=\"url(#clip622)\" style=\"stroke:#000000; stroke-linecap:butt; stroke-linejoin:round; stroke-width:2; stroke-opacity:0.1; fill:none\" points=\"\n  170.857,1445.72 2352.76,1445.72 \n  \"/>\n<polyline clip-path=\"url(#clip622)\" style=\"stroke:#000000; stroke-linecap:butt; stroke-linejoin:round; stroke-width:2; stroke-opacity:0.1; fill:none\" points=\"\n  170.857,1159.27 2352.76,1159.27 \n  \"/>\n<polyline clip-path=\"url(#clip622)\" style=\"stroke:#000000; stroke-linecap:butt; stroke-linejoin:round; stroke-width:2; stroke-opacity:0.1; fill:none\" points=\"\n  170.857,872.83 2352.76,872.83 \n  \"/>\n<polyline clip-path=\"url(#clip622)\" style=\"stroke:#000000; stroke-linecap:butt; stroke-linejoin:round; stroke-width:2; stroke-opacity:0.1; fill:none\" points=\"\n  170.857,586.387 2352.76,586.387 \n  \"/>\n<polyline clip-path=\"url(#clip622)\" style=\"stroke:#000000; stroke-linecap:butt; stroke-linejoin:round; stroke-width:2; stroke-opacity:0.1; fill:none\" points=\"\n  170.857,299.944 2352.76,299.944 \n  \"/>\n<polyline clip-path=\"url(#clip620)\" style=\"stroke:#000000; stroke-linecap:butt; stroke-linejoin:round; stroke-width:4; stroke-opacity:1; fill:none\" points=\"\n  170.857,1486.45 170.857,47.2441 \n  \"/>\n<polyline clip-path=\"url(#clip620)\" style=\"stroke:#000000; stroke-linecap:butt; stroke-linejoin:round; stroke-width:4; stroke-opacity:1; fill:none\" points=\"\n  170.857,1445.72 189.755,1445.72 \n  \"/>\n<polyline clip-path=\"url(#clip620)\" style=\"stroke:#000000; stroke-linecap:butt; stroke-linejoin:round; stroke-width:4; stroke-opacity:1; fill:none\" points=\"\n  170.857,1159.27 189.755,1159.27 \n  \"/>\n<polyline clip-path=\"url(#clip620)\" style=\"stroke:#000000; stroke-linecap:butt; stroke-linejoin:round; stroke-width:4; stroke-opacity:1; fill:none\" points=\"\n  170.857,872.83 189.755,872.83 \n  \"/>\n<polyline clip-path=\"url(#clip620)\" style=\"stroke:#000000; stroke-linecap:butt; stroke-linejoin:round; stroke-width:4; stroke-opacity:1; fill:none\" points=\"\n  170.857,586.387 189.755,586.387 \n  \"/>\n<polyline clip-path=\"url(#clip620)\" style=\"stroke:#000000; stroke-linecap:butt; stroke-linejoin:round; stroke-width:4; stroke-opacity:1; fill:none\" points=\"\n  170.857,299.944 189.755,299.944 \n  \"/>\n<path clip-path=\"url(#clip620)\" d=\"M122.913 1431.51 Q119.302 1431.51 117.473 1435.08 Q115.668 1438.62 115.668 1445.75 Q115.668 1452.86 117.473 1456.42 Q119.302 1459.96 122.913 1459.96 Q126.547 1459.96 128.353 1456.42 Q130.182 1452.86 130.182 1445.75 Q130.182 1438.62 128.353 1435.08 Q126.547 1431.51 122.913 1431.51 M122.913 1427.81 Q128.723 1427.81 131.779 1432.42 Q134.857 1437 134.857 1445.75 Q134.857 1454.48 131.779 1459.08 Q128.723 1463.67 122.913 1463.67 Q117.103 1463.67 114.024 1459.08 Q110.969 1454.48 110.969 1445.75 Q110.969 1437 114.024 1432.42 Q117.103 1427.81 122.913 1427.81 Z\" fill=\"#000000\" fill-rule=\"evenodd\" fill-opacity=\"1\" /><path clip-path=\"url(#clip620)\" d=\"M82.7975 1141.99 L101.154 1141.99 L101.154 1145.93 L87.0799 1145.93 L87.0799 1154.4 Q88.0984 1154.05 89.1169 1153.89 Q90.1354 1153.71 91.1539 1153.71 Q96.941 1153.71 100.321 1156.88 Q103.7 1160.05 103.7 1165.46 Q103.7 1171.04 100.228 1174.15 Q96.7558 1177.22 90.4364 1177.22 Q88.2604 1177.22 85.9919 1176.85 Q83.7466 1176.48 81.3392 1175.74 L81.3392 1171.04 Q83.4225 1172.18 85.6447 1172.73 Q87.8669 1173.29 90.3438 1173.29 Q94.3484 1173.29 96.6863 1171.18 Q99.0243 1169.08 99.0243 1165.46 Q99.0243 1161.85 96.6863 1159.75 Q94.3484 1157.64 90.3438 1157.64 Q88.4688 1157.64 86.5938 1158.06 Q84.7419 1158.47 82.7975 1159.35 L82.7975 1141.99 Z\" fill=\"#000000\" fill-rule=\"evenodd\" fill-opacity=\"1\" /><path clip-path=\"url(#clip620)\" d=\"M122.913 1145.07 Q119.302 1145.07 117.473 1148.64 Q115.668 1152.18 115.668 1159.31 Q115.668 1166.41 117.473 1169.98 Q119.302 1173.52 122.913 1173.52 Q126.547 1173.52 128.353 1169.98 Q130.182 1166.41 130.182 1159.31 Q130.182 1152.18 128.353 1148.64 Q126.547 1145.07 122.913 1145.07 M122.913 1141.37 Q128.723 1141.37 131.779 1145.97 Q134.857 1150.56 134.857 1159.31 Q134.857 1168.03 131.779 1172.64 Q128.723 1177.22 122.913 1177.22 Q117.103 1177.22 114.024 1172.64 Q110.969 1168.03 110.969 1159.31 Q110.969 1150.56 114.024 1145.97 Q117.103 1141.37 122.913 1141.37 Z\" fill=\"#000000\" fill-rule=\"evenodd\" fill-opacity=\"1\" /><path clip-path=\"url(#clip620)\" d=\"M53.3995 886.175 L61.0384 886.175 L61.0384 859.809 L52.7282 861.476 L52.7282 857.217 L60.9921 855.55 L65.668 855.55 L65.668 886.175 L73.3068 886.175 L73.3068 890.11 L53.3995 890.11 L53.3995 886.175 Z\" fill=\"#000000\" fill-rule=\"evenodd\" fill-opacity=\"1\" /><path clip-path=\"url(#clip620)\" d=\"M92.7512 858.629 Q89.1401 858.629 87.3114 862.193 Q85.5058 865.735 85.5058 872.865 Q85.5058 879.971 87.3114 883.536 Q89.1401 887.077 92.7512 887.077 Q96.3854 887.077 98.1909 883.536 Q100.02 879.971 100.02 872.865 Q100.02 865.735 98.1909 862.193 Q96.3854 858.629 92.7512 858.629 M92.7512 854.925 Q98.5613 854.925 101.617 859.531 Q104.696 864.115 104.696 872.865 Q104.696 881.591 101.617 886.198 Q98.5613 890.781 92.7512 890.781 Q86.941 890.781 83.8623 886.198 Q80.8068 881.591 80.8068 872.865 Q80.8068 864.115 83.8623 859.531 Q86.941 854.925 92.7512 854.925 Z\" fill=\"#000000\" fill-rule=\"evenodd\" fill-opacity=\"1\" /><path clip-path=\"url(#clip620)\" d=\"M122.913 858.629 Q119.302 858.629 117.473 862.193 Q115.668 865.735 115.668 872.865 Q115.668 879.971 117.473 883.536 Q119.302 887.077 122.913 887.077 Q126.547 887.077 128.353 883.536 Q130.182 879.971 130.182 872.865 Q130.182 865.735 128.353 862.193 Q126.547 858.629 122.913 858.629 M122.913 854.925 Q128.723 854.925 131.779 859.531 Q134.857 864.115 134.857 872.865 Q134.857 881.591 131.779 886.198 Q128.723 890.781 122.913 890.781 Q117.103 890.781 114.024 886.198 Q110.969 881.591 110.969 872.865 Q110.969 864.115 114.024 859.531 Q117.103 854.925 122.913 854.925 Z\" fill=\"#000000\" fill-rule=\"evenodd\" fill-opacity=\"1\" /><path clip-path=\"url(#clip620)\" d=\"M53.3995 599.732 L61.0384 599.732 L61.0384 573.366 L52.7282 575.033 L52.7282 570.774 L60.9921 569.107 L65.668 569.107 L65.668 599.732 L73.3068 599.732 L73.3068 603.667 L53.3995 603.667 L53.3995 599.732 Z\" fill=\"#000000\" fill-rule=\"evenodd\" fill-opacity=\"1\" /><path clip-path=\"url(#clip620)\" d=\"M82.7975 569.107 L101.154 569.107 L101.154 573.042 L87.0799 573.042 L87.0799 581.514 Q88.0984 581.167 89.1169 581.005 Q90.1354 580.82 91.1539 580.82 Q96.941 580.82 100.321 583.991 Q103.7 587.162 103.7 592.579 Q103.7 598.158 100.228 601.26 Q96.7558 604.338 90.4364 604.338 Q88.2604 604.338 85.9919 603.968 Q83.7466 603.598 81.3392 602.857 L81.3392 598.158 Q83.4225 599.292 85.6447 599.848 Q87.8669 600.403 90.3438 600.403 Q94.3484 600.403 96.6863 598.297 Q99.0243 596.19 99.0243 592.579 Q99.0243 588.968 96.6863 586.861 Q94.3484 584.755 90.3438 584.755 Q88.4688 584.755 86.5938 585.172 Q84.7419 585.588 82.7975 586.468 L82.7975 569.107 Z\" fill=\"#000000\" fill-rule=\"evenodd\" fill-opacity=\"1\" /><path clip-path=\"url(#clip620)\" d=\"M122.913 572.186 Q119.302 572.186 117.473 575.75 Q115.668 579.292 115.668 586.422 Q115.668 593.528 117.473 597.093 Q119.302 600.635 122.913 600.635 Q126.547 600.635 128.353 597.093 Q130.182 593.528 130.182 586.422 Q130.182 579.292 128.353 575.75 Q126.547 572.186 122.913 572.186 M122.913 568.482 Q128.723 568.482 131.779 573.088 Q134.857 577.672 134.857 586.422 Q134.857 595.148 131.779 599.755 Q128.723 604.338 122.913 604.338 Q117.103 604.338 114.024 599.755 Q110.969 595.148 110.969 586.422 Q110.969 577.672 114.024 573.088 Q117.103 568.482 122.913 568.482 Z\" fill=\"#000000\" fill-rule=\"evenodd\" fill-opacity=\"1\" /><path clip-path=\"url(#clip620)\" d=\"M56.6171 313.289 L72.9365 313.289 L72.9365 317.224 L50.9921 317.224 L50.9921 313.289 Q53.6541 310.534 58.2375 305.905 Q62.8439 301.252 64.0245 299.909 Q66.2698 297.386 67.1494 295.65 Q68.0522 293.891 68.0522 292.201 Q68.0522 289.446 66.1078 287.71 Q64.1865 285.974 61.0847 285.974 Q58.8856 285.974 56.4319 286.738 Q54.0014 287.502 51.2236 289.053 L51.2236 284.331 Q54.0477 283.196 56.5014 282.618 Q58.955 282.039 60.9921 282.039 Q66.3624 282.039 69.5568 284.724 Q72.7513 287.409 72.7513 291.9 Q72.7513 294.03 71.9411 295.951 Q71.1541 297.849 69.0476 300.442 Q68.4689 301.113 65.367 304.331 Q62.2652 307.525 56.6171 313.289 Z\" fill=\"#000000\" fill-rule=\"evenodd\" fill-opacity=\"1\" /><path clip-path=\"url(#clip620)\" d=\"M92.7512 285.743 Q89.1401 285.743 87.3114 289.308 Q85.5058 292.849 85.5058 299.979 Q85.5058 307.085 87.3114 310.65 Q89.1401 314.192 92.7512 314.192 Q96.3854 314.192 98.1909 310.65 Q100.02 307.085 100.02 299.979 Q100.02 292.849 98.1909 289.308 Q96.3854 285.743 92.7512 285.743 M92.7512 282.039 Q98.5613 282.039 101.617 286.645 Q104.696 291.229 104.696 299.979 Q104.696 308.706 101.617 313.312 Q98.5613 317.895 92.7512 317.895 Q86.941 317.895 83.8623 313.312 Q80.8068 308.706 80.8068 299.979 Q80.8068 291.229 83.8623 286.645 Q86.941 282.039 92.7512 282.039 Z\" fill=\"#000000\" fill-rule=\"evenodd\" fill-opacity=\"1\" /><path clip-path=\"url(#clip620)\" d=\"M122.913 285.743 Q119.302 285.743 117.473 289.308 Q115.668 292.849 115.668 299.979 Q115.668 307.085 117.473 310.65 Q119.302 314.192 122.913 314.192 Q126.547 314.192 128.353 310.65 Q130.182 307.085 130.182 299.979 Q130.182 292.849 128.353 289.308 Q126.547 285.743 122.913 285.743 M122.913 282.039 Q128.723 282.039 131.779 286.645 Q134.857 291.229 134.857 299.979 Q134.857 308.706 131.779 313.312 Q128.723 317.895 122.913 317.895 Q117.103 317.895 114.024 313.312 Q110.969 308.706 110.969 299.979 Q110.969 291.229 114.024 286.645 Q117.103 282.039 122.913 282.039 Z\" fill=\"#000000\" fill-rule=\"evenodd\" fill-opacity=\"1\" /><circle clip-path=\"url(#clip622)\" cx=\"818.68\" cy=\"1079.07\" r=\"14\" fill=\"#009af9\" fill-rule=\"evenodd\" fill-opacity=\"1\" stroke=\"#000000\" stroke-opacity=\"1\" stroke-width=\"3.2\"/>\n<circle clip-path=\"url(#clip622)\" cx=\"832.974\" cy=\"1325.41\" r=\"14\" fill=\"#009af9\" fill-rule=\"evenodd\" fill-opacity=\"1\" stroke=\"#000000\" stroke-opacity=\"1\" stroke-width=\"3.2\"/>\n<circle clip-path=\"url(#clip622)\" cx=\"1233.22\" cy=\"924.39\" r=\"14\" fill=\"#009af9\" fill-rule=\"evenodd\" fill-opacity=\"1\" stroke=\"#000000\" stroke-opacity=\"1\" stroke-width=\"3.2\"/>\n<circle clip-path=\"url(#clip622)\" cx=\"975.918\" cy=\"1050.42\" r=\"14\" fill=\"#009af9\" fill-rule=\"evenodd\" fill-opacity=\"1\" stroke=\"#000000\" stroke-opacity=\"1\" stroke-width=\"3.2\"/>\n<circle clip-path=\"url(#clip622)\" cx=\"1004.51\" cy=\"895.745\" r=\"14\" fill=\"#009af9\" fill-rule=\"evenodd\" fill-opacity=\"1\" stroke=\"#000000\" stroke-opacity=\"1\" stroke-width=\"3.2\"/>\n<circle clip-path=\"url(#clip622)\" cx=\"1404.75\" cy=\"1033.24\" r=\"14\" fill=\"#009af9\" fill-rule=\"evenodd\" fill-opacity=\"1\" stroke=\"#000000\" stroke-opacity=\"1\" stroke-width=\"3.2\"/>\n<circle clip-path=\"url(#clip622)\" cx=\"1247.51\" cy=\"930.118\" r=\"14\" fill=\"#009af9\" fill-rule=\"evenodd\" fill-opacity=\"1\" stroke=\"#000000\" stroke-opacity=\"1\" stroke-width=\"3.2\"/>\n<circle clip-path=\"url(#clip622)\" cx=\"475.614\" cy=\"1331.14\" r=\"14\" fill=\"#009af9\" fill-rule=\"evenodd\" fill-opacity=\"1\" stroke=\"#000000\" stroke-opacity=\"1\" stroke-width=\"3.2\"/>\n<circle clip-path=\"url(#clip622)\" cx=\"1662.05\" cy=\"1090.53\" r=\"14\" fill=\"#009af9\" fill-rule=\"evenodd\" fill-opacity=\"1\" stroke=\"#000000\" stroke-opacity=\"1\" stroke-width=\"3.2\"/>\n<circle clip-path=\"url(#clip622)\" cx=\"1190.33\" cy=\"1279.58\" r=\"14\" fill=\"#009af9\" fill-rule=\"evenodd\" fill-opacity=\"1\" stroke=\"#000000\" stroke-opacity=\"1\" stroke-width=\"3.2\"/>\n<circle clip-path=\"url(#clip622)\" cx=\"1476.22\" cy=\"1124.9\" r=\"14\" fill=\"#009af9\" fill-rule=\"evenodd\" fill-opacity=\"1\" stroke=\"#000000\" stroke-opacity=\"1\" stroke-width=\"3.2\"/>\n<circle clip-path=\"url(#clip622)\" cx=\"918.741\" cy=\"1434.26\" r=\"14\" fill=\"#009af9\" fill-rule=\"evenodd\" fill-opacity=\"1\" stroke=\"#000000\" stroke-opacity=\"1\" stroke-width=\"3.2\"/>\n<circle clip-path=\"url(#clip622)\" cx=\"1461.93\" cy=\"1027.51\" r=\"14\" fill=\"#009af9\" fill-rule=\"evenodd\" fill-opacity=\"1\" stroke=\"#000000\" stroke-opacity=\"1\" stroke-width=\"3.2\"/>\n<circle clip-path=\"url(#clip622)\" cx=\"318.376\" cy=\"1228.02\" r=\"14\" fill=\"#009af9\" fill-rule=\"evenodd\" fill-opacity=\"1\" stroke=\"#000000\" stroke-opacity=\"1\" stroke-width=\"3.2\"/>\n<circle clip-path=\"url(#clip622)\" cx=\"1276.1\" cy=\"1101.98\" r=\"14\" fill=\"#009af9\" fill-rule=\"evenodd\" fill-opacity=\"1\" stroke=\"#000000\" stroke-opacity=\"1\" stroke-width=\"3.2\"/>\n<circle clip-path=\"url(#clip622)\" cx=\"532.792\" cy=\"924.39\" r=\"14\" fill=\"#009af9\" fill-rule=\"evenodd\" fill-opacity=\"1\" stroke=\"#000000\" stroke-opacity=\"1\" stroke-width=\"3.2\"/>\n<circle clip-path=\"url(#clip622)\" cx=\"975.918\" cy=\"1417.07\" r=\"14\" fill=\"#009af9\" fill-rule=\"evenodd\" fill-opacity=\"1\" stroke=\"#000000\" stroke-opacity=\"1\" stroke-width=\"3.2\"/>\n<circle clip-path=\"url(#clip622)\" cx=\"304.081\" cy=\"993.136\" r=\"14\" fill=\"#009af9\" fill-rule=\"evenodd\" fill-opacity=\"1\" stroke=\"#000000\" stroke-opacity=\"1\" stroke-width=\"3.2\"/>\n<circle clip-path=\"url(#clip622)\" cx=\"304.081\" cy=\"1010.32\" r=\"14\" fill=\"#009af9\" fill-rule=\"evenodd\" fill-opacity=\"1\" stroke=\"#000000\" stroke-opacity=\"1\" stroke-width=\"3.2\"/>\n<circle clip-path=\"url(#clip622)\" cx=\"861.563\" cy=\"1199.37\" r=\"14\" fill=\"#009af9\" fill-rule=\"evenodd\" fill-opacity=\"1\" stroke=\"#000000\" stroke-opacity=\"1\" stroke-width=\"3.2\"/>\n<circle clip-path=\"url(#clip622)\" cx=\"275.492\" cy=\"1245.21\" r=\"14\" fill=\"#009af9\" fill-rule=\"evenodd\" fill-opacity=\"1\" stroke=\"#000000\" stroke-opacity=\"1\" stroke-width=\"3.2\"/>\n<circle clip-path=\"url(#clip622)\" cx=\"747.208\" cy=\"890.016\" r=\"14\" fill=\"#009af9\" fill-rule=\"evenodd\" fill-opacity=\"1\" stroke=\"#000000\" stroke-opacity=\"1\" stroke-width=\"3.2\"/>\n<circle clip-path=\"url(#clip622)\" cx=\"604.264\" cy=\"1336.87\" r=\"14\" fill=\"#009af9\" fill-rule=\"evenodd\" fill-opacity=\"1\" stroke=\"#000000\" stroke-opacity=\"1\" stroke-width=\"3.2\"/>\n<circle clip-path=\"url(#clip622)\" cx=\"904.446\" cy=\"1239.48\" r=\"14\" fill=\"#009af9\" fill-rule=\"evenodd\" fill-opacity=\"1\" stroke=\"#000000\" stroke-opacity=\"1\" stroke-width=\"3.2\"/>\n<circle clip-path=\"url(#clip622)\" cx=\"604.264\" cy=\"1113.44\" r=\"14\" fill=\"#009af9\" fill-rule=\"evenodd\" fill-opacity=\"1\" stroke=\"#000000\" stroke-opacity=\"1\" stroke-width=\"3.2\"/>\n<circle clip-path=\"url(#clip622)\" cx=\"1204.63\" cy=\"1176.46\" r=\"14\" fill=\"#009af9\" fill-rule=\"evenodd\" fill-opacity=\"1\" stroke=\"#000000\" stroke-opacity=\"1\" stroke-width=\"3.2\"/>\n<circle clip-path=\"url(#clip622)\" cx=\"1561.99\" cy=\"918.661\" r=\"14\" fill=\"#009af9\" fill-rule=\"evenodd\" fill-opacity=\"1\" stroke=\"#000000\" stroke-opacity=\"1\" stroke-width=\"3.2\"/>\n<circle clip-path=\"url(#clip622)\" cx=\"704.325\" cy=\"1090.53\" r=\"14\" fill=\"#009af9\" fill-rule=\"evenodd\" fill-opacity=\"1\" stroke=\"#000000\" stroke-opacity=\"1\" stroke-width=\"3.2\"/>\n<circle clip-path=\"url(#clip622)\" cx=\"1133.16\" cy=\"1170.73\" r=\"14\" fill=\"#009af9\" fill-rule=\"evenodd\" fill-opacity=\"1\" stroke=\"#000000\" stroke-opacity=\"1\" stroke-width=\"3.2\"/>\n<circle clip-path=\"url(#clip622)\" cx=\"532.792\" cy=\"1268.12\" r=\"14\" fill=\"#009af9\" fill-rule=\"evenodd\" fill-opacity=\"1\" stroke=\"#000000\" stroke-opacity=\"1\" stroke-width=\"3.2\"/>\n<polyline clip-path=\"url(#clip622)\" style=\"stroke:#e26f46; stroke-linecap:butt; stroke-linejoin:round; stroke-width:4; stroke-opacity:1; fill:none\" points=\"\n  232.609,1445.72 447.025,87.9763 \n  \"/>\n<polyline clip-path=\"url(#clip622)\" style=\"stroke:#3da44d; stroke-linecap:butt; stroke-linejoin:round; stroke-width:4; stroke-opacity:1; fill:none\" points=\"\n  232.609,1445.72 2291,1411.34 \n  \"/>\n<path clip-path=\"url(#clip620)\" d=\"\nM1984.58 302.578 L2280.03 302.578 L2280.03 95.2176 L1984.58 95.2176  Z\n  \" fill=\"#ffffff\" fill-rule=\"evenodd\" fill-opacity=\"1\"/>\n<polyline clip-path=\"url(#clip620)\" style=\"stroke:#000000; stroke-linecap:butt; stroke-linejoin:round; stroke-width:4; stroke-opacity:1; fill:none\" points=\"\n  1984.58,302.578 2280.03,302.578 2280.03,95.2176 1984.58,95.2176 1984.58,302.578 \n  \"/>\n<circle clip-path=\"url(#clip620)\" cx=\"2081.56\" cy=\"147.058\" r=\"23\" fill=\"#009af9\" fill-rule=\"evenodd\" fill-opacity=\"1\" stroke=\"#000000\" stroke-opacity=\"1\" stroke-width=\"5.12\"/>\n<path clip-path=\"url(#clip620)\" d=\"M2192.37 166.745 Q2190.57 171.375 2188.85 172.787 Q2187.14 174.199 2184.27 174.199 L2180.87 174.199 L2180.87 170.634 L2183.37 170.634 Q2185.13 170.634 2186.1 169.8 Q2187.07 168.967 2188.25 165.865 L2189.02 163.921 L2178.53 138.412 L2183.04 138.412 L2191.15 158.689 L2199.25 138.412 L2203.76 138.412 L2192.37 166.745 Z\" fill=\"#000000\" fill-rule=\"evenodd\" fill-opacity=\"1\" /><path clip-path=\"url(#clip620)\" d=\"M2211.05 160.402 L2218.69 160.402 L2218.69 134.037 L2210.38 135.703 L2210.38 131.444 L2218.65 129.778 L2223.32 129.778 L2223.32 160.402 L2230.96 160.402 L2230.96 164.338 L2211.05 164.338 L2211.05 160.402 Z\" fill=\"#000000\" fill-rule=\"evenodd\" fill-opacity=\"1\" /><polyline clip-path=\"url(#clip620)\" style=\"stroke:#e26f46; stroke-linecap:butt; stroke-linejoin:round; stroke-width:4; stroke-opacity:1; fill:none\" points=\"\n  2008.83,198.898 2154.29,198.898 \n  \"/>\n<path clip-path=\"url(#clip620)\" d=\"M2192.37 218.585 Q2190.57 223.215 2188.85 224.627 Q2187.14 226.039 2184.27 226.039 L2180.87 226.039 L2180.87 222.474 L2183.37 222.474 Q2185.13 222.474 2186.1 221.64 Q2187.07 220.807 2188.25 217.705 L2189.02 215.761 L2178.53 190.252 L2183.04 190.252 L2191.15 210.529 L2199.25 190.252 L2203.76 190.252 L2192.37 218.585 Z\" fill=\"#000000\" fill-rule=\"evenodd\" fill-opacity=\"1\" /><path clip-path=\"url(#clip620)\" d=\"M2214.27 212.242 L2230.59 212.242 L2230.59 216.178 L2208.65 216.178 L2208.65 212.242 Q2211.31 209.488 2215.89 204.858 Q2220.5 200.205 2221.68 198.863 Q2223.92 196.34 2224.8 194.604 Q2225.71 192.844 2225.71 191.155 Q2225.71 188.4 2223.76 186.664 Q2221.84 184.928 2218.74 184.928 Q2216.54 184.928 2214.09 185.692 Q2211.66 186.455 2208.88 188.006 L2208.88 183.284 Q2211.7 182.15 2214.16 181.571 Q2216.61 180.993 2218.65 180.993 Q2224.02 180.993 2227.21 183.678 Q2230.41 186.363 2230.41 190.854 Q2230.41 192.983 2229.59 194.905 Q2228.81 196.803 2226.7 199.395 Q2226.12 200.067 2223.02 203.284 Q2219.92 206.479 2214.27 212.242 Z\" fill=\"#000000\" fill-rule=\"evenodd\" fill-opacity=\"1\" /><polyline clip-path=\"url(#clip620)\" style=\"stroke:#3da44d; stroke-linecap:butt; stroke-linejoin:round; stroke-width:4; stroke-opacity:1; fill:none\" points=\"\n  2008.83,250.738 2154.29,250.738 \n  \"/>\n<path clip-path=\"url(#clip620)\" d=\"M2192.37 270.425 Q2190.57 275.055 2188.85 276.467 Q2187.14 277.879 2184.27 277.879 L2180.87 277.879 L2180.87 274.314 L2183.37 274.314 Q2185.13 274.314 2186.1 273.48 Q2187.07 272.647 2188.25 269.545 L2189.02 267.601 L2178.53 242.092 L2183.04 242.092 L2191.15 262.369 L2199.25 242.092 L2203.76 242.092 L2192.37 270.425 Z\" fill=\"#000000\" fill-rule=\"evenodd\" fill-opacity=\"1\" /><path clip-path=\"url(#clip620)\" d=\"M2224.41 249.383 Q2227.77 250.101 2229.64 252.369 Q2231.54 254.638 2231.54 257.971 Q2231.54 263.087 2228.02 265.888 Q2224.5 268.689 2218.02 268.689 Q2215.84 268.689 2213.53 268.249 Q2211.24 267.832 2208.78 266.976 L2208.78 262.462 Q2210.73 263.596 2213.04 264.175 Q2215.36 264.754 2217.88 264.754 Q2222.28 264.754 2224.57 263.018 Q2226.89 261.281 2226.89 257.971 Q2226.89 254.916 2224.73 253.203 Q2222.6 251.467 2218.78 251.467 L2214.76 251.467 L2214.76 247.624 L2218.97 247.624 Q2222.42 247.624 2224.25 246.258 Q2226.08 244.87 2226.08 242.277 Q2226.08 239.615 2224.18 238.203 Q2222.3 236.768 2218.78 236.768 Q2216.86 236.768 2214.66 237.184 Q2212.47 237.601 2209.83 238.481 L2209.83 234.314 Q2212.49 233.573 2214.8 233.203 Q2217.14 232.833 2219.2 232.833 Q2224.53 232.833 2227.63 235.263 Q2230.73 237.67 2230.73 241.791 Q2230.73 244.661 2229.09 246.652 Q2227.44 248.62 2224.41 249.383 Z\" fill=\"#000000\" fill-rule=\"evenodd\" fill-opacity=\"1\" /></svg>\n"
          },
          "metadata": {},
          "execution_count": 113
        }
      ]
    }
  ]
}